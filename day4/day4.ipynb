{
 "cells": [
  {
   "cell_type": "markdown",
   "id": "5d2c10e2-fd75-4670-bfca-ac79ccca770c",
   "metadata": {},
   "source": [
    "### Day 4\n",
    "Stats:<br>\n",
    "\n",
    "| Part 1 Time | Part 1 Rank | Part 2 Time | Part 2 Rank |\n",
    "| --- | --- | --- | --- | \n",
    "| 00:07:20 | 2852 | 00:08:52 | 1936 |"
   ]
  },
  {
   "cell_type": "code",
   "execution_count": 12,
   "id": "25f7815a-b143-4d79-a17c-6f617860171c",
   "metadata": {},
   "outputs": [
    {
     "data": {
      "text/plain": [
       "[[[2, 4], [6, 8]],\n",
       " [[2, 3], [4, 5]],\n",
       " [[5, 7], [7, 9]],\n",
       " [[2, 8], [3, 7]],\n",
       " [[6, 6], [4, 6]],\n",
       " [[2, 6], [4, 8]]]"
      ]
     },
     "execution_count": 12,
     "metadata": {},
     "output_type": "execute_result"
    }
   ],
   "source": [
    "lines = []\n",
    "\n",
    "with open(\"in4.txt\", \"r\") as file:\n",
    "    lines = file.readlines()\n",
    "lines = [ [ [ int(k) for k in j.split(\"-\")] for j in i.strip().split(\",\")] for i in lines]\n",
    "\n",
    "lines[:10]"
   ]
  },
  {
   "cell_type": "code",
   "execution_count": 13,
   "id": "59e3fea6-90a0-44b4-8561-72ac15d74132",
   "metadata": {},
   "outputs": [
    {
     "data": {
      "text/plain": [
       "2"
      ]
     },
     "execution_count": 13,
     "metadata": {},
     "output_type": "execute_result"
    }
   ],
   "source": [
    "count = 0\n",
    "for [a,b],[c,d] in lines:\n",
    "    lst_a = set(range(a,b+1))\n",
    "    lst_c = set(range(c,d+1))\n",
    "    if(lst_a.issubset(lst_c) or lst_c.issubset(lst_a)):\n",
    "        count += 1\n",
    "\n",
    "count"
   ]
  },
  {
   "cell_type": "code",
   "execution_count": 14,
   "id": "6749b8e0-9b34-4c8b-9360-f5434985d842",
   "metadata": {},
   "outputs": [
    {
     "data": {
      "text/plain": [
       "4"
      ]
     },
     "execution_count": 14,
     "metadata": {},
     "output_type": "execute_result"
    }
   ],
   "source": [
    "count = 0\n",
    "for [a,b],[c,d] in lines:\n",
    "    lst_a = set(range(a,b+1))\n",
    "    lst_c = set(range(c,d+1))\n",
    "    if(lst_a.intersection(lst_c) != set() ):\n",
    "        count += 1\n",
    "\n",
    "count"
   ]
  }
 ],
 "metadata": {
  "kernelspec": {
   "display_name": "Python 3 (ipykernel)",
   "language": "python",
   "name": "python3"
  },
  "language_info": {
   "codemirror_mode": {
    "name": "ipython",
    "version": 3
   },
   "file_extension": ".py",
   "mimetype": "text/x-python",
   "name": "python",
   "nbconvert_exporter": "python",
   "pygments_lexer": "ipython3",
   "version": "3.10.7"
  }
 },
 "nbformat": 4,
 "nbformat_minor": 5
}
