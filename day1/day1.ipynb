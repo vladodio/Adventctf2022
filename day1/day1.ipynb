{
 "cells": [
  {
   "cell_type": "markdown",
   "id": "cd949daa-3143-4d69-bcb2-22876db90c8f",
   "metadata": {},
   "source": [
    "### Day 1\n",
    "Stats:<br>\n",
    "\n",
    "| Part 1 Time | Part 1 Rank | Part 2 Time | Part 2 Rank |\n",
    "| --- | --- | --- | --- | \n",
    "| 00:12:45 | 6305 | 00:15:53 | 5736 |\n"
   ]
  },
  {
   "cell_type": "code",
   "execution_count": 21,
   "id": "16a9bb3b-0643-489b-9519-912c390d770e",
   "metadata": {
    "tags": []
   },
   "outputs": [
    {
     "data": {
      "text/plain": [
       "[13399.0, 13677.0, 11945.0, 9861.0, 6484.0, 4257.0, '', 6616.0, 7349.0, 7758.0]"
      ]
     },
     "execution_count": 21,
     "metadata": {},
     "output_type": "execute_result"
    }
   ],
   "source": [
    "lines = []\n",
    "\n",
    "with open(\"untitled.txt\", \"r\") as file:\n",
    "    lines = file.readlines()\n",
    "lines = [ ('' if i == '\\n' else  float(i.strip()))  for i in lines]\n",
    "lines[:10]"
   ]
  },
  {
   "cell_type": "code",
   "execution_count": 16,
   "id": "9fdc1ffb-3adb-4db6-8bc8-a0ffb4485632",
   "metadata": {},
   "outputs": [
    {
     "data": {
      "text/plain": [
       "75622.0"
      ]
     },
     "execution_count": 16,
     "metadata": {},
     "output_type": "execute_result"
    }
   ],
   "source": [
    "max_found = -10*10\n",
    "curr_found = 0\n",
    "for line in lines:\n",
    "    if line == '':\n",
    "        max_found = max(max_found, curr_found)\n",
    "        curr_found = 0\n",
    "    else:\n",
    "        curr_found += line\n",
    "\n",
    "max_found"
   ]
  },
  {
   "cell_type": "code",
   "execution_count": 20,
   "id": "0577b345-f3d1-4781-8c68-1dbaf68ab5fe",
   "metadata": {},
   "outputs": [
    {
     "data": {
      "text/plain": [
       "213159.0"
      ]
     },
     "execution_count": 20,
     "metadata": {},
     "output_type": "execute_result"
    }
   ],
   "source": [
    "maxs_found = [] \n",
    "curr_found = 0\n",
    "for line in lines:\n",
    "    if line == '':\n",
    "        maxs_found.append(curr_found)\n",
    "        curr_found = 0\n",
    "    else:\n",
    "        curr_found += line\n",
    "\n",
    "maxs_found.sort()\n",
    "sum(maxs_found[-3:])"
   ]
  },
  {
   "cell_type": "markdown",
   "id": "4ddc97c5-502d-4cce-a220-0b2548190374",
   "metadata": {},
   "source": []
  }
 ],
 "metadata": {
  "kernelspec": {
   "display_name": "Python 3 (ipykernel)",
   "language": "python",
   "name": "python3"
  },
  "language_info": {
   "codemirror_mode": {
    "name": "ipython",
    "version": 3
   },
   "file_extension": ".py",
   "mimetype": "text/x-python",
   "name": "python",
   "nbconvert_exporter": "python",
   "pygments_lexer": "ipython3",
   "version": "3.10.7"
  }
 },
 "nbformat": 4,
 "nbformat_minor": 5
}
