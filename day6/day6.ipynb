{
 "cells": [
  {
   "cell_type": "markdown",
   "id": "589b2843-0800-4f5d-b72f-4c8f6a3be661",
   "metadata": {},
   "source": [
    "### Day 6\n",
    "Stats:<br>\n",
    "\n",
    "| Part 1 Time | Part 1 Rank | Part 2 Time | Part 2 Rank |\n",
    "| --- | --- | --- | --- | \n",
    "| 00:07:12 | 3944 | 00:09:00 | 3873 |"
   ]
  },
  {
   "cell_type": "code",
   "execution_count": 18,
   "id": "79098aef-3ae5-4683-ba00-a76ee6c40401",
   "metadata": {},
   "outputs": [],
   "source": [
    "lines = []\n",
    "\n",
    "with open(\"in6.txt\", \"r\") as file:\n",
    "    lines = file.readlines()\n",
    "    \n",
    "line = lines[0].strip()lines = []\n",
    "\n",
    "with open(\"in6.txt\", \"r\") as file:\n",
    "    lines = file.readlines()\n",
    "    \n",
    "line = lines[0].strip()"
   ]
  },
  {
   "cell_type": "code",
   "execution_count": 19,
   "id": "397577cc-6c05-4710-a299-7c693ca5caf4",
   "metadata": {},
   "outputs": [
    {
     "name": "stdout",
     "output_type": "stream",
     "text": [
      "439\n"
     ]
    }
   ],
   "source": [
    "for i in range(len(line)-3):\n",
    "    #print(line[i:i+4])\n",
    "    if len(set(line[i:i+4])) == 4:\n",
    "        print(i+4)\n",
    "        break;"
   ]
  },
  {
   "cell_type": "code",
   "execution_count": 22,
   "id": "bf1335d2-b141-4aed-9a24-9a757c4e5e88",
   "metadata": {},
   "outputs": [
    {
     "name": "stdout",
     "output_type": "stream",
     "text": [
      "2250\n"
     ]
    }
   ],
   "source": [
    "for i in range(len(line)-3):\n",
    "    #print(line[i:i+4])\n",
    "    if len(set(line[i:i+14])) == 14:\n",
    "        print(i+14)\n",
    "        break;"
   ]
  }
 ],
 "metadata": {
  "kernelspec": {
   "display_name": "Python 3 (ipykernel)",
   "language": "python",
   "name": "python3"
  },
  "language_info": {
   "codemirror_mode": {
    "name": "ipython",
    "version": 3
   },
   "file_extension": ".py",
   "mimetype": "text/x-python",
   "name": "python",
   "nbconvert_exporter": "python",
   "pygments_lexer": "ipython3",
   "version": "3.10.7"
  }
 },
 "nbformat": 4,
 "nbformat_minor": 5
}
