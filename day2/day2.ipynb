{
 "cells": [
  {
   "cell_type": "markdown",
   "id": "4660e45b-e688-4d45-b227-85a53cdc5b7f",
   "metadata": {},
   "source": [
    "### Day 2\n",
    "Stats:<br>\n",
    "\n",
    "| Part 1 Time | Part 1 Rank | Part 2 Time | Part 2 Rank |\n",
    "| --- | --- | --- | --- | \n",
    "| 00:08:37 | 2099 | 00:19:03 | 4168 |"
   ]
  },
  {
   "cell_type": "code",
   "execution_count": 22,
   "id": "4a4e60c8-8c22-4f06-8f2e-bb6f3797bff0",
   "metadata": {},
   "outputs": [
    {
     "data": {
      "text/plain": [
       "[['C', 'Y'],\n",
       " ['C', 'X'],\n",
       " ['A', 'Z'],\n",
       " ['B', 'X'],\n",
       " ['B', 'Z'],\n",
       " ['C', 'X'],\n",
       " ['C', 'X'],\n",
       " ['B', 'Z'],\n",
       " ['C', 'X'],\n",
       " ['B', 'Z']]"
      ]
     },
     "execution_count": 22,
     "metadata": {},
     "output_type": "execute_result"
    }
   ],
   "source": [
    "lines = []\n",
    "\n",
    "with open(\"in2.txt\", \"r\") as file:\n",
    "    lines = file.readlines()\n",
    "lines = [ i.strip().split(\" \") for i in lines]\n",
    "\n",
    "lines[:10]"
   ]
  },
  {
   "cell_type": "code",
   "execution_count": 23,
   "id": "2bd391b3-df12-45a9-b624-e1bcfcac961a",
   "metadata": {},
   "outputs": [
    {
     "data": {
      "text/plain": [
       "13446"
      ]
     },
     "execution_count": 23,
     "metadata": {},
     "output_type": "execute_result"
    }
   ],
   "source": [
    "vals = {\"X\" : 1, \"Y\" : 2, \"Z\" : 3}\n",
    "convert = {\"X\" : \"A\", \"Y\" : \"B\", \"Z\" : \"C\"}\n",
    "\n",
    "score = 0\n",
    "for a,b in lines:\n",
    "    score += vals[b]\n",
    "    if(a == convert[b]):\n",
    "        score += 3\n",
    "    elif(a == \"C\" and b == \"X\"):\n",
    "        score += 6\n",
    "    elif(a == \"B\" and b == \"Z\"):\n",
    "        score += 6\n",
    "    elif(a == \"A\" and b == \"Y\"):\n",
    "        score += 6\n",
    "score"
   ]
  },
  {
   "cell_type": "code",
   "execution_count": 24,
   "id": "a7a4f9af-123f-46ed-9bdd-d7bb653b3ea4",
   "metadata": {},
   "outputs": [
    {
     "data": {
      "text/plain": [
       "13509"
      ]
     },
     "execution_count": 24,
     "metadata": {},
     "output_type": "execute_result"
    }
   ],
   "source": [
    "vals = {\"A\" : 1, \"B\" : 2, \"C\" : 3}\n",
    "lose = {\"A\" : \"C\", \"B\": \"A\", \"C\" : \"B\"}\n",
    "win = {\"A\" : \"B\", \"B\" : \"C\", \"C\" : \"A\"}\n",
    "\n",
    "\n",
    "score = 0\n",
    "for opps_move,outcome in lines:\n",
    "    if(outcome == \"Y\"): # draw\n",
    "        score += 3 + vals[opps_move]\n",
    "    elif(outcome == \"X\"): # lose\n",
    "        score += 0 + vals[lose[opps_move]]\n",
    "    elif(outcome == \"Z\"): # win\n",
    "        score += 6 + vals[win[opps_move]]\n",
    "score"
   ]
  },
  {
   "cell_type": "code",
   "execution_count": 16,
   "id": "595392fe-dc53-41f2-b938-7204c24ad877",
   "metadata": {},
   "outputs": [
    {
     "data": {
      "text/plain": [
       "-1"
      ]
     },
     "execution_count": 16,
     "metadata": {},
     "output_type": "execute_result"
    }
   ],
   "source": [
    "(1 - 2 % 3) "
   ]
  }
 ],
 "metadata": {
  "kernelspec": {
   "display_name": "Python 3 (ipykernel)",
   "language": "python",
   "name": "python3"
  },
  "language_info": {
   "codemirror_mode": {
    "name": "ipython",
    "version": 3
   },
   "file_extension": ".py",
   "mimetype": "text/x-python",
   "name": "python",
   "nbconvert_exporter": "python",
   "pygments_lexer": "ipython3",
   "version": "3.10.7"
  }
 },
 "nbformat": 4,
 "nbformat_minor": 5
}
